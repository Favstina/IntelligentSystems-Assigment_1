{
 "cells": [
  {
   "cell_type": "markdown",
   "id": "09a7fe02",
   "metadata": {},
   "source": [
    "# Assignment 1: Graph Pathfinding with Genetic Algorithms"
   ]
  },
  {
   "cell_type": "markdown",
   "id": "684679d6",
   "metadata": {},
   "source": [
    "## Task 1: Shortest path between 2 nodes\n",
    "\n",
    "Here we are creating a few graphs that will serve as examples. Graph are represented like this: first a specified number of nodes and the list of connections (*Node A*, *Node B*, *Distance*).   \n",
    "The goal of the first task is to find the shortest distances between two nodes. In addition to the graph itself, the input data should also include the start and end nodes.   \n",
    "Choose and implement a suitable fitness function and run a genetic algorithm to find the shortest path in a given graph provided as a .txt file.   \n",
    "Experiment with different mutation/crossover functions and other GA parameters(population size, selection, etc.) and try to find the optimal configuration of the algorithm."
   ]
  }
 ],
 "metadata": {
  "language_info": {
   "name": "python"
  }
 },
 "nbformat": 4,
 "nbformat_minor": 5
}
